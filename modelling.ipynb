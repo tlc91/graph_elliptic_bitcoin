{
 "cells": [
  {
   "cell_type": "code",
   "execution_count": 2,
   "id": "e00e7980-dd0e-4e2d-b82c-89a54ca7e192",
   "metadata": {},
   "outputs": [
    {
     "name": "stdout",
     "output_type": "stream",
     "text": [
      "Collecting seaborn\n",
      "  Downloading seaborn-0.12.2-py3-none-any.whl (293 kB)\n",
      "\u001b[2K     \u001b[38;2;114;156;31m━━━━━━━━━━━━━━━━━━━━━━━━━━━━━━━━━━━━━━━\u001b[0m \u001b[32m293.3/293.3 kB\u001b[0m \u001b[31m5.1 MB/s\u001b[0m eta \u001b[36m0:00:00\u001b[0m[36m0:00:01\u001b[0m\n",
      "\u001b[?25hRequirement already satisfied: numpy!=1.24.0,>=1.17 in /Users/thomascurran/miniconda3/lib/python3.10/site-packages (from seaborn) (1.24.2)\n",
      "Requirement already satisfied: pandas>=0.25 in /Users/thomascurran/miniconda3/lib/python3.10/site-packages (from seaborn) (1.5.3)\n",
      "Requirement already satisfied: matplotlib!=3.6.1,>=3.1 in /Users/thomascurran/miniconda3/lib/python3.10/site-packages (from seaborn) (3.7.1)\n",
      "Requirement already satisfied: python-dateutil>=2.7 in /Users/thomascurran/miniconda3/lib/python3.10/site-packages (from matplotlib!=3.6.1,>=3.1->seaborn) (2.8.2)\n",
      "Requirement already satisfied: contourpy>=1.0.1 in /Users/thomascurran/miniconda3/lib/python3.10/site-packages (from matplotlib!=3.6.1,>=3.1->seaborn) (1.0.7)\n",
      "Requirement already satisfied: pyparsing>=2.3.1 in /Users/thomascurran/miniconda3/lib/python3.10/site-packages (from matplotlib!=3.6.1,>=3.1->seaborn) (3.0.9)\n",
      "Requirement already satisfied: cycler>=0.10 in /Users/thomascurran/miniconda3/lib/python3.10/site-packages (from matplotlib!=3.6.1,>=3.1->seaborn) (0.11.0)\n",
      "Requirement already satisfied: kiwisolver>=1.0.1 in /Users/thomascurran/miniconda3/lib/python3.10/site-packages (from matplotlib!=3.6.1,>=3.1->seaborn) (1.4.4)\n",
      "Requirement already satisfied: packaging>=20.0 in /Users/thomascurran/miniconda3/lib/python3.10/site-packages (from matplotlib!=3.6.1,>=3.1->seaborn) (23.0)\n",
      "Requirement already satisfied: fonttools>=4.22.0 in /Users/thomascurran/miniconda3/lib/python3.10/site-packages (from matplotlib!=3.6.1,>=3.1->seaborn) (4.39.2)\n",
      "Requirement already satisfied: pillow>=6.2.0 in /Users/thomascurran/miniconda3/lib/python3.10/site-packages (from matplotlib!=3.6.1,>=3.1->seaborn) (9.4.0)\n",
      "Requirement already satisfied: pytz>=2020.1 in /Users/thomascurran/miniconda3/lib/python3.10/site-packages (from pandas>=0.25->seaborn) (2022.7)\n",
      "Requirement already satisfied: six>=1.5 in /Users/thomascurran/miniconda3/lib/python3.10/site-packages (from python-dateutil>=2.7->matplotlib!=3.6.1,>=3.1->seaborn) (1.16.0)\n",
      "Installing collected packages: seaborn\n",
      "Successfully installed seaborn-0.12.2\n"
     ]
    }
   ],
   "source": [
    "!pip install seaborn"
   ]
  },
  {
   "cell_type": "code",
   "execution_count": 3,
   "id": "666439c0-671b-463f-a7e8-fe44500672e2",
   "metadata": {},
   "outputs": [],
   "source": [
    "import pandas as pd\n",
    "import matplotlib.pyplot as plt\n",
    "import seaborn as sns\n",
    "import numpy as np\n",
    "from datetime import datetime, timedelta"
   ]
  },
  {
   "cell_type": "code",
   "execution_count": 5,
   "id": "7fbc4a9a-befd-4f81-8588-2b5f75fc086e",
   "metadata": {},
   "outputs": [],
   "source": [
    "from torch_geometric.datasets import TUDataset, GNNBenchmarkDataset, Planetoid\n",
    "from torch_geometric.loader import DataLoader\n",
    "from torch_geometric.data import Data, Dataset\n",
    "from torch_geometric.transforms import RandomNodeSplit\n",
    "\n",
    "from torch_geometric.nn import Sequential, GCNConv, global_mean_pool\n",
    "from torch.nn import Dropout, Linear, ReLU, Sigmoid\n",
    "\n",
    "#from torchmetrics.functional import accuracy, precision_recall, confusion_matrix\n",
    "import torch\n",
    "import torch.nn.functional as F"
   ]
  },
  {
   "cell_type": "code",
   "execution_count": 6,
   "id": "db06e151-2826-406d-8674-cb329d2a4ca5",
   "metadata": {},
   "outputs": [],
   "source": [
    "edges_dataset = pd.read_pickle('elliptic_bitcoin_dataset/elliptic_txs_edgelist_transformed.pkl', )\n",
    "features_dataset = pd.read_pickle('elliptic_bitcoin_dataset/elliptic_txs_features_light.pkl')\n",
    "classes_dataset = pd.read_pickle('elliptic_bitcoin_dataset/elliptic_txs_classes_transformed.pkl')"
   ]
  },
  {
   "cell_type": "code",
   "execution_count": 8,
   "id": "493c9d8d-8152-43be-a367-82869063ac92",
   "metadata": {},
   "outputs": [
    {
     "data": {
      "text/html": [
       "<div>\n",
       "<style scoped>\n",
       "    .dataframe tbody tr th:only-of-type {\n",
       "        vertical-align: middle;\n",
       "    }\n",
       "\n",
       "    .dataframe tbody tr th {\n",
       "        vertical-align: top;\n",
       "    }\n",
       "\n",
       "    .dataframe thead th {\n",
       "        text-align: right;\n",
       "    }\n",
       "</style>\n",
       "<table border=\"1\" class=\"dataframe\">\n",
       "  <thead>\n",
       "    <tr style=\"text-align: right;\">\n",
       "      <th></th>\n",
       "      <th>txId1</th>\n",
       "      <th>txId2</th>\n",
       "    </tr>\n",
       "  </thead>\n",
       "  <tbody>\n",
       "    <tr>\n",
       "      <th>0</th>\n",
       "      <td>0</td>\n",
       "      <td>1</td>\n",
       "    </tr>\n",
       "    <tr>\n",
       "      <th>1</th>\n",
       "      <td>2</td>\n",
       "      <td>3</td>\n",
       "    </tr>\n",
       "    <tr>\n",
       "      <th>2</th>\n",
       "      <td>4</td>\n",
       "      <td>5</td>\n",
       "    </tr>\n",
       "    <tr>\n",
       "      <th>3</th>\n",
       "      <td>6</td>\n",
       "      <td>7</td>\n",
       "    </tr>\n",
       "    <tr>\n",
       "      <th>4</th>\n",
       "      <td>8</td>\n",
       "      <td>9</td>\n",
       "    </tr>\n",
       "    <tr>\n",
       "      <th>...</th>\n",
       "      <td>...</td>\n",
       "      <td>...</td>\n",
       "    </tr>\n",
       "    <tr>\n",
       "      <th>234350</th>\n",
       "      <td>203602</td>\n",
       "      <td>201430</td>\n",
       "    </tr>\n",
       "    <tr>\n",
       "      <th>234351</th>\n",
       "      <td>203603</td>\n",
       "      <td>203099</td>\n",
       "    </tr>\n",
       "    <tr>\n",
       "      <th>234352</th>\n",
       "      <td>201921</td>\n",
       "      <td>202042</td>\n",
       "    </tr>\n",
       "    <tr>\n",
       "      <th>234353</th>\n",
       "      <td>201480</td>\n",
       "      <td>201368</td>\n",
       "    </tr>\n",
       "    <tr>\n",
       "      <th>234354</th>\n",
       "      <td>201954</td>\n",
       "      <td>201756</td>\n",
       "    </tr>\n",
       "  </tbody>\n",
       "</table>\n",
       "<p>234355 rows × 2 columns</p>\n",
       "</div>"
      ],
      "text/plain": [
       "         txId1   txId2\n",
       "0            0       1\n",
       "1            2       3\n",
       "2            4       5\n",
       "3            6       7\n",
       "4            8       9\n",
       "...        ...     ...\n",
       "234350  203602  201430\n",
       "234351  203603  203099\n",
       "234352  201921  202042\n",
       "234353  201480  201368\n",
       "234354  201954  201756\n",
       "\n",
       "[234355 rows x 2 columns]"
      ]
     },
     "execution_count": 8,
     "metadata": {},
     "output_type": "execute_result"
    }
   ],
   "source": [
    "edges_dataset"
   ]
  },
  {
   "cell_type": "code",
   "execution_count": 7,
   "id": "e691d39f-f107-4638-aeb4-f54edf90d614",
   "metadata": {},
   "outputs": [
    {
     "data": {
      "text/plain": [
       "((234355, 2), (203769, 94), (203769, 2))"
      ]
     },
     "execution_count": 7,
     "metadata": {},
     "output_type": "execute_result"
    }
   ],
   "source": [
    "edges_dataset.shape, features_dataset.shape, classes_dataset.shape"
   ]
  },
  {
   "cell_type": "code",
   "execution_count": 9,
   "id": "e9ef252b-ffc6-4f6c-b953-a6250907f04d",
   "metadata": {},
   "outputs": [
    {
     "data": {
      "text/html": [
       "<div>\n",
       "<style scoped>\n",
       "    .dataframe tbody tr th:only-of-type {\n",
       "        vertical-align: middle;\n",
       "    }\n",
       "\n",
       "    .dataframe tbody tr th {\n",
       "        vertical-align: top;\n",
       "    }\n",
       "\n",
       "    .dataframe thead th {\n",
       "        text-align: right;\n",
       "    }\n",
       "</style>\n",
       "<table border=\"1\" class=\"dataframe\">\n",
       "  <thead>\n",
       "    <tr style=\"text-align: right;\">\n",
       "      <th></th>\n",
       "      <th>txId</th>\n",
       "      <th>class</th>\n",
       "    </tr>\n",
       "  </thead>\n",
       "  <tbody>\n",
       "    <tr>\n",
       "      <th>0</th>\n",
       "      <td>230425980</td>\n",
       "      <td>NaN</td>\n",
       "    </tr>\n",
       "    <tr>\n",
       "      <th>1</th>\n",
       "      <td>5530458</td>\n",
       "      <td>NaN</td>\n",
       "    </tr>\n",
       "    <tr>\n",
       "      <th>2</th>\n",
       "      <td>232022460</td>\n",
       "      <td>NaN</td>\n",
       "    </tr>\n",
       "    <tr>\n",
       "      <th>3</th>\n",
       "      <td>232438397</td>\n",
       "      <td>1.0</td>\n",
       "    </tr>\n",
       "    <tr>\n",
       "      <th>4</th>\n",
       "      <td>230460314</td>\n",
       "      <td>NaN</td>\n",
       "    </tr>\n",
       "    <tr>\n",
       "      <th>...</th>\n",
       "      <td>...</td>\n",
       "      <td>...</td>\n",
       "    </tr>\n",
       "    <tr>\n",
       "      <th>203764</th>\n",
       "      <td>173077460</td>\n",
       "      <td>NaN</td>\n",
       "    </tr>\n",
       "    <tr>\n",
       "      <th>203765</th>\n",
       "      <td>158577750</td>\n",
       "      <td>NaN</td>\n",
       "    </tr>\n",
       "    <tr>\n",
       "      <th>203766</th>\n",
       "      <td>158375402</td>\n",
       "      <td>0.0</td>\n",
       "    </tr>\n",
       "    <tr>\n",
       "      <th>203767</th>\n",
       "      <td>158654197</td>\n",
       "      <td>NaN</td>\n",
       "    </tr>\n",
       "    <tr>\n",
       "      <th>203768</th>\n",
       "      <td>157597225</td>\n",
       "      <td>NaN</td>\n",
       "    </tr>\n",
       "  </tbody>\n",
       "</table>\n",
       "<p>203769 rows × 2 columns</p>\n",
       "</div>"
      ],
      "text/plain": [
       "             txId  class\n",
       "0       230425980    NaN\n",
       "1         5530458    NaN\n",
       "2       232022460    NaN\n",
       "3       232438397    1.0\n",
       "4       230460314    NaN\n",
       "...           ...    ...\n",
       "203764  173077460    NaN\n",
       "203765  158577750    NaN\n",
       "203766  158375402    0.0\n",
       "203767  158654197    NaN\n",
       "203768  157597225    NaN\n",
       "\n",
       "[203769 rows x 2 columns]"
      ]
     },
     "execution_count": 9,
     "metadata": {},
     "output_type": "execute_result"
    }
   ],
   "source": [
    "classes_dataset"
   ]
  },
  {
   "cell_type": "code",
   "execution_count": 37,
   "id": "fbc05a61-7de3-4e96-afe2-3574cb00e350",
   "metadata": {},
   "outputs": [
    {
     "data": {
      "text/plain": [
       "(torch.Size([2, 234355]), torch.Size([203769, 93]), torch.Size([203769]))"
      ]
     },
     "execution_count": 37,
     "metadata": {},
     "output_type": "execute_result"
    }
   ],
   "source": [
    "edges_index_tensor = torch.tensor(edges_dataset.T.to_numpy(), dtype=torch.long)\n",
    "features_tensor = torch.tensor(features_dataset.to_numpy()[:,1:], dtype=torch.float)\n",
    "y_labels_tensor = torch.tensor(classes_dataset.to_numpy()[:,1], dtype=torch.int)\n",
    "y_labels_tensor[y_labels_tensor < 0] = -1\n",
    "\n",
    "edges_index_tensor.size(), features_tensor.size(), y_labels_tensor.size()"
   ]
  },
  {
   "cell_type": "code",
   "execution_count": 38,
   "id": "6ef68311-5489-47d7-b3ee-8ad5381faff9",
   "metadata": {},
   "outputs": [],
   "source": [
    "# labelled data mask\n",
    "y_labelled_mask = y_labels_tensor >= 0\n",
    "\n",
    "# building the Data graph\n",
    "bitcoin_graph_data = Data(x=features_tensor, edge_index=edges_index_tensor, y=y_labels_tensor, labelled_mask=y_labelled_mask) \n",
    "\n",
    "spliter = RandomNodeSplit(split='train_rest',\n",
    "                num_val=0,\n",
    "                num_test=0.6\n",
    "               )\n",
    "\n",
    "bitcoin_graph_data = spliter(bitcoin_graph_data)"
   ]
  },
  {
   "cell_type": "code",
   "execution_count": 39,
   "id": "72a464f1-787e-4c67-a012-3afdf8fdc03f",
   "metadata": {},
   "outputs": [],
   "source": [
    "weight_label = torch.clone(y_labels_tensor).float()\n",
    "ratio_illicit_to_licit_transactions = (y_labels_tensor==1).sum() / (y_labels_tensor==0).sum()\n",
    "\n",
    "weight_label[y_labels_tensor==1] = torch.tensor(1)\n",
    "weight_label[y_labels_tensor==0] = ratio_illicit_to_licit_transactions"
   ]
  },
  {
   "cell_type": "code",
   "execution_count": 56,
   "id": "d5b4e1cb-8229-4766-8aa7-3c1b0436552c",
   "metadata": {},
   "outputs": [],
   "source": [
    "class BitcoinGCN(torch.nn.Module):\n",
    "    def __init__(self, n_features, latent_layer_1=64, latent_layer_2=32):\n",
    "        super().__init__()\n",
    "        \"\"\" GCNConv layers \"\"\"\n",
    "        self.latent_layer_1 = latent_layer_1\n",
    "        self.latent_layer_2 = latent_layer_2\n",
    "        \n",
    "        self.n_features = n_features\n",
    "        \n",
    "        self.model = Sequential(\"x, edge_index\",\n",
    "                                [\n",
    "                                    (GCNConv(self.n_features, self.latent_layer_1), \"x, edge_index -> h1\"),\n",
    "                                    (ReLU(), \"h1 -> r1\"),\n",
    "                                    (Dropout(p=0.2), \"r1 -> d1\"),\n",
    "                                    (GCNConv(self.latent_layer_1, self.latent_layer_2), \"d1, edge_index -> h2\"),\n",
    "                                    (ReLU(), \"h2 -> r2\"),\n",
    "                                    (Dropout(p=0.2), \"r2 -> d2\"),\n",
    "                                    (Linear(self.latent_layer_2, 1), \"d2 -> a3\"),\n",
    "                                    (Sigmoid(), \"a3 -> x_output\")\n",
    "                                ]\n",
    "                               )\n",
    "        #self.conv1 = GCNConv(self.n_features, self.latent_layer_1)\n",
    "        #self.relu1 = ReLU()\n",
    "        #self.dropout1 = Dropout(p=0.2)\n",
    "        \n",
    "        #self.conv2 = GCNConv(self.latent_layer_1, self.latent_layer_2)\n",
    "        \n",
    "        #self.layer_out = Linear(self.latent_layer_2, 1) \n",
    "        #self.sigmoid = Sigmoid()\n",
    "        \n",
    "    def forward(self, data):\n",
    "        x, edge_index = data.x, data.edge_index\n",
    "                                \n",
    "        x_output = self.model(x, edge_index)\n",
    "        #x = self.conv1(x, edge_index)\n",
    "        #x = F.relu(x)\n",
    "        #x = F.dropout(x, training=self.training)\n",
    "        #x = self.conv2(x, edge_index)\n",
    "\n",
    "        return x_output #self.sigmoid(x)"
   ]
  },
  {
   "cell_type": "markdown",
   "id": "26e369d0-67ba-4502-91a3-bec94d17de1b",
   "metadata": {},
   "source": [
    "### Adding or not the weights\n",
    "By adding the weights on the illicit class (`y=0`), we force the model to aggressively flag the illicit examples. This results in a **high recall, low precision** overall predictive capability. On the order hand, no weights will result in a **low recall, high precision** model.\n",
    "\n",
    "The decision process on the balance between precision and recall would be made knowing if we are looking to automate the tagging of illicit transactions (high precision needed), or if we plan to have people review the flagged transactions and label them correctly (high recall required)."
   ]
  },
  {
   "cell_type": "code",
   "execution_count": 86,
   "id": "584debd0-50eb-4dd1-b414-7c6fa6353243",
   "metadata": {},
   "outputs": [],
   "source": [
    "# prepping masks\n",
    "training_labelled_mask = bitcoin_graph_data.labelled_mask & bitcoin_graph_data.train_mask\n",
    "test_labelled_mask = bitcoin_graph_data.labelled_mask & bitcoin_graph_data.test_mask\n",
    "\n",
    "model = BitcoinGCN(bitcoin_graph_data.num_features)\n",
    "optimizer = torch.optim.Adam(model.parameters(), lr=0.01, weight_decay=5e-4)\n",
    "loss_function = torch.nn.BCELoss(reduction='mean')#, weight=weight_label[training_labelled_mask])"
   ]
  },
  {
   "cell_type": "code",
   "execution_count": 87,
   "id": "2b2c8ae9-b918-4293-968c-138f17bd69d2",
   "metadata": {},
   "outputs": [
    {
     "name": "stdout",
     "output_type": "stream",
     "text": [
      "Epoch\tLoss\tTr_Acc\tTest_Acc\tPrecision\tRecall\n",
      "20\t0.25\t0.02\t0.03\t0.62\t0.03\n",
      "40\t0.22\t0.11\t0.10\t0.82\t0.10\n",
      "\n",
      "Early stopping\n",
      "43\t0.21\ttensor(0.1248)\ttensor(0.1291)\ttensor(0.8561)\ttensor(0.1291)\n"
     ]
    }
   ],
   "source": [
    "# train the model\n",
    "model.train()\n",
    "losses = []\n",
    "train_accuracies = []\n",
    "test_accuracies = []\n",
    "precisions = []\n",
    "recalls = []\n",
    "\n",
    "print('Epoch','Loss','Tr_Acc','Test_Acc','Precision','Recall', sep='\\t')\n",
    "\n",
    "for epoch in range(200):\n",
    "\n",
    "    # training\n",
    "    optimizer.zero_grad()\n",
    "    out = model(bitcoin_graph_data).view(-1) # flatten\n",
    "    \n",
    "    loss = loss_function(out[training_labelled_mask], \n",
    "                         bitcoin_graph_data.y[training_labelled_mask].float(),\n",
    "                        )\n",
    "    \n",
    "    loss.backward()\n",
    "    optimizer.step()\n",
    "    losses.append(loss.item())\n",
    "    \n",
    "    # evaluation metrics\n",
    "    train_accuracy = accuracy(out[training_labelled_mask], \n",
    "                              bitcoin_graph_data.y[training_labelled_mask],\n",
    "                              average='none', \n",
    "                              num_classes=2, \n",
    "                              multiclass=True\n",
    "                             )\n",
    "    test_accuracy = accuracy(out[test_labelled_mask], \n",
    "                             bitcoin_graph_data.y[test_labelled_mask],\n",
    "                             average='none', \n",
    "                             num_classes=2, \n",
    "                             multiclass=True\n",
    "                            )\n",
    "        \n",
    "    precision, recall = precision_recall(out[test_labelled_mask].round(), \n",
    "                                         bitcoin_graph_data.y[test_labelled_mask], \n",
    "                                         average='none', \n",
    "                                         num_classes=2, \n",
    "                                         multiclass=True)\n",
    "    \n",
    "    # take first element of each eval metric to get the metric of class 0 (illicit transactions)\n",
    "    train_accuracies.append(train_accuracy[0])\n",
    "    test_accuracies.append(test_accuracy[0])\n",
    "    precisions.append(precision[0])\n",
    "    recalls.append(recall[0])\n",
    "    \n",
    "    if (epoch+1) % 20 == 0:\n",
    "        print(epoch+1, \n",
    "              \"{:.2f}\".format(loss.item()), \n",
    "              \"{:.2f}\".format(train_accuracy[0].item()), \n",
    "              \"{:.2f}\".format(test_accuracy[0].item()), \n",
    "              \"{:.2f}\".format(precision[0].item()), \n",
    "              \"{:.2f}\".format(recall[0].item()),\n",
    "              sep='\\t')\n",
    "\n",
    "    # early stopping\n",
    "    if len(losses) > 20:\n",
    "        if np.mean(losses[-4:]) > np.mean(losses[-5:-1]): # little moving average on 4 consecutive epochs to be sure it's globally goign up\n",
    "            print('\\nEarly stopping')\n",
    "            print(epoch+1, \"{:.2f}\".format(loss.item()), train_accuracy[0], test_accuracy[0], precision[0], recall[0], sep='\\t')\n",
    "            break"
   ]
  },
  {
   "cell_type": "code",
   "execution_count": 88,
   "id": "f6808a33-186e-4bf8-9931-a8ed73c52b87",
   "metadata": {},
   "outputs": [
    {
     "data": {
      "image/png": "[encoded data removed]",
      "text/plain": [
       "<Figure size 432x288 with 1 Axes>"
      ]
     },
     "metadata": {
      "needs_background": "light"
     },
     "output_type": "display_data"
    }
   ],
   "source": [
    "import matplotlib.pyplot as plt\n",
    "#plt.plot(losses,label='loss')\n",
    "plt.plot(test_accuracies,label='accuracy')\n",
    "plt.plot(precisions,label='precision: # of illicit caught over predicted')\n",
    "plt.plot(recalls, label='recall: # of illicit caught over all illicit')\n",
    "plt.legend()\n",
    "plt.show()"
   ]
  },
  {
   "cell_type": "code",
   "execution_count": 89,
   "id": "5ac8abef-e71d-493c-aa8e-50949350b86e",
   "metadata": {},
   "outputs": [],
   "source": [
    "model.eval()\n",
    "with torch.no_grad():\n",
    "    out = model(bitcoin_graph_data).view(-1) # flatten\n",
    "    unknown_label_predictions = out[~bitcoin_graph_data.labelled_mask].clone().round()"
   ]
  },
  {
   "cell_type": "code",
   "execution_count": 107,
   "id": "ef57e6ad-86f4-4748-adcc-b652d5c9fead",
   "metadata": {},
   "outputs": [
    {
     "name": "stdout",
     "output_type": "stream",
     "text": [
      "Percentage of illicit transactions caught in unlabelled data: 2.93 %\n",
      "Percentage of illicit transactions present in labelled data:  0.90 %\n"
     ]
    }
   ],
   "source": [
    "print(\"Percentage of illicit transactions caught in unlabelled data: %.2f %%\" % float(100*(1 - unknown_label_predictions).mean().item()))\n",
    "print(\"Percentage of illicit transactions present in labelled data:  %.2f %%\" % float(bitcoin_graph_data.y[y_labelled_mask].float().mean().item()))"
   ]
  }
 ],
 "metadata": {
  "kernelspec": {
   "display_name": "Python 3 (ipykernel)",
   "language": "python",
   "name": "python3"
  },
  "language_info": {
   "codemirror_mode": {
    "name": "ipython",
    "version": 3
   },
   "file_extension": ".py",
   "mimetype": "text/x-python",
   "name": "python",
   "nbconvert_exporter": "python",
   "pygments_lexer": "ipython3",
   "version": "3.10.9"
  }
 },
 "nbformat": 4,
 "nbformat_minor": 5
}
