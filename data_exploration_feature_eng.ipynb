{
 "cells": [
  {
   "cell_type": "code",
   "execution_count": 1,
   "id": "666439c0-671b-463f-a7e8-fe44500672e2",
   "metadata": {},
   "outputs": [],
   "source": [
    "import pandas as pd\n",
    "import matplotlib.pyplot as plt\n",
    "\n",
    "import numpy as np\n",
    "from datetime import datetime, timedelta"
   ]
  },
  {
   "cell_type": "code",
   "execution_count": 2,
   "id": "273db75a-d46f-43d6-9b1d-baade1408759",
   "metadata": {},
   "outputs": [],
   "source": [
    "edges_dataset = pd.read_csv('elliptic_bitcoin_dataset/elliptic_txs_edgelist.csv', )\n",
    "features_names = ['txId'] + ['x%i' %i for i in range(166)]\n",
    "features_dataset = pd.read_csv('elliptic_bitcoin_dataset/elliptic_txs_features.csv', names=features_names)\n",
    "classes_dataset = pd.read_csv('elliptic_bitcoin_dataset/elliptic_txs_classes.csv')"
   ]
  },
  {
   "cell_type": "code",
   "execution_count": 7,
   "id": "bc434b4c-0fea-4e30-8c31-b1669261944d",
   "metadata": {},
   "outputs": [
    {
     "data": {
      "text/html": [
       "<div>\n",
       "<style scoped>\n",
       "    .dataframe tbody tr th:only-of-type {\n",
       "        vertical-align: middle;\n",
       "    }\n",
       "\n",
       "    .dataframe tbody tr th {\n",
       "        vertical-align: top;\n",
       "    }\n",
       "\n",
       "    .dataframe thead th {\n",
       "        text-align: right;\n",
       "    }\n",
       "</style>\n",
       "<table border=\"1\" class=\"dataframe\">\n",
       "  <thead>\n",
       "    <tr style=\"text-align: right;\">\n",
       "      <th></th>\n",
       "      <th>txId1</th>\n",
       "      <th>txId2</th>\n",
       "    </tr>\n",
       "  </thead>\n",
       "  <tbody>\n",
       "    <tr>\n",
       "      <th>0</th>\n",
       "      <td>230425980</td>\n",
       "      <td>5530458</td>\n",
       "    </tr>\n",
       "    <tr>\n",
       "      <th>1</th>\n",
       "      <td>232022460</td>\n",
       "      <td>232438397</td>\n",
       "    </tr>\n",
       "    <tr>\n",
       "      <th>2</th>\n",
       "      <td>230460314</td>\n",
       "      <td>230459870</td>\n",
       "    </tr>\n",
       "    <tr>\n",
       "      <th>3</th>\n",
       "      <td>230333930</td>\n",
       "      <td>230595899</td>\n",
       "    </tr>\n",
       "    <tr>\n",
       "      <th>4</th>\n",
       "      <td>232013274</td>\n",
       "      <td>232029206</td>\n",
       "    </tr>\n",
       "    <tr>\n",
       "      <th>...</th>\n",
       "      <td>...</td>\n",
       "      <td>...</td>\n",
       "    </tr>\n",
       "    <tr>\n",
       "      <th>234350</th>\n",
       "      <td>158365409</td>\n",
       "      <td>157930723</td>\n",
       "    </tr>\n",
       "    <tr>\n",
       "      <th>234351</th>\n",
       "      <td>188708874</td>\n",
       "      <td>188708879</td>\n",
       "    </tr>\n",
       "    <tr>\n",
       "      <th>234352</th>\n",
       "      <td>157659064</td>\n",
       "      <td>157659046</td>\n",
       "    </tr>\n",
       "    <tr>\n",
       "      <th>234353</th>\n",
       "      <td>87414554</td>\n",
       "      <td>106877725</td>\n",
       "    </tr>\n",
       "    <tr>\n",
       "      <th>234354</th>\n",
       "      <td>158589452</td>\n",
       "      <td>158589457</td>\n",
       "    </tr>\n",
       "  </tbody>\n",
       "</table>\n",
       "<p>234355 rows × 2 columns</p>\n",
       "</div>"
      ],
      "text/plain": [
       "            txId1      txId2\n",
       "0       230425980    5530458\n",
       "1       232022460  232438397\n",
       "2       230460314  230459870\n",
       "3       230333930  230595899\n",
       "4       232013274  232029206\n",
       "...           ...        ...\n",
       "234350  158365409  157930723\n",
       "234351  188708874  188708879\n",
       "234352  157659064  157659046\n",
       "234353   87414554  106877725\n",
       "234354  158589452  158589457\n",
       "\n",
       "[234355 rows x 2 columns]"
      ]
     },
     "execution_count": 7,
     "metadata": {},
     "output_type": "execute_result"
    }
   ],
   "source": [
    "edges_dataset"
   ]
  },
  {
   "cell_type": "code",
   "execution_count": 3,
   "id": "6faacd14-bce4-4003-9da7-6b2b60bab40f",
   "metadata": {},
   "outputs": [
    {
     "data": {
      "text/plain": [
       "((203769, 2), (234355, 2), (203769, 167))"
      ]
     },
     "execution_count": 3,
     "metadata": {},
     "output_type": "execute_result"
    }
   ],
   "source": [
    "classes_dataset.shape, edges_dataset.shape, features_dataset.shape"
   ]
  },
  {
   "cell_type": "markdown",
   "id": "ee6e62e0-dc9a-4eab-a35b-0b805fc9ab86",
   "metadata": {},
   "source": [
    "### Transforming the edge list label"
   ]
  },
  {
   "cell_type": "markdown",
   "id": "b89f40d5-3d8c-4f01-b119-2f9ec01775d2",
   "metadata": {},
   "source": [
    "There is a time component to the graphs but we will ignore it and consider everything as 1 graph."
   ]
  },
  {
   "cell_type": "code",
   "execution_count": 12,
   "id": "e46bc8ba-53aa-4b60-ac48-71269a24e639",
   "metadata": {},
   "outputs": [
    {
     "data": {
      "text/plain": [
       "<AxesSubplot:xlabel='x0'>"
      ]
     },
     "execution_count": 12,
     "metadata": {},
     "output_type": "execute_result"
    },
    {
     "data": {
      "image/png": "[encoded data removed]",
      "text/plain": [
       "<Figure size 432x288 with 1 Axes>"
      ]
     },
     "metadata": {
      "needs_background": "light"
     },
     "output_type": "display_data"
    }
   ],
   "source": [
    "features_dataset[['x0','x1']].groupby('x0').count().plot();"
   ]
  },
  {
   "cell_type": "code",
   "execution_count": null,
   "id": "2abf1d1b-a03f-40d0-9c6e-a8e153d93661",
   "metadata": {},
   "outputs": [],
   "source": [
    "current_idx_to_simple_idx = {current_idx: simple_idx for simple_idx, current_idx in enumerate(classes_dataset['txId'].to_numpy())}\n",
    "edges_dataset['txId1'] = edges_dataset['txId1'].apply(lambda x: current_idx_to_simple_idx[x])\n",
    "edges_dataset['txId2'] = edges_dataset['txId2'].apply(lambda x: current_idx_to_simple_idx[x])"
   ]
  },
  {
   "cell_type": "code",
   "execution_count": null,
   "id": "f9813b7f-32dc-4225-a8e4-aa29b5b0aa11",
   "metadata": {},
   "outputs": [],
   "source": [
    "edges_dataset.head(3)"
   ]
  },
  {
   "cell_type": "markdown",
   "id": "83ab5d58-3ec3-4fa3-84cf-6bbc6edb3023",
   "metadata": {},
   "source": [
    "### Transforming the class label"
   ]
  },
  {
   "cell_type": "code",
   "execution_count": null,
   "id": "85a32c9e-ec16-4203-8c9d-e3a6a2ed1869",
   "metadata": {},
   "outputs": [],
   "source": [
    "classes_dataset.head(4)"
   ]
  },
  {
   "cell_type": "code",
   "execution_count": null,
   "id": "56f5892f-5c55-4aa1-9a04-80e810cfcb82",
   "metadata": {},
   "outputs": [],
   "source": [
    "classes_dataset['class'].hist();"
   ]
  },
  {
   "cell_type": "code",
   "execution_count": null,
   "id": "f65a5585-da3f-4366-9b8c-e7c34a920ec0",
   "metadata": {},
   "outputs": [],
   "source": [
    "classes_dataset.loc[classes_dataset['class']=='unknown','class'] = None\n",
    "classes_dataset.loc[classes_dataset['class']=='1','class'] = 0\n",
    "classes_dataset.loc[classes_dataset['class']=='2','class'] = 1\n",
    "classes_dataset['class'] = classes_dataset['class'].astype(float)"
   ]
  },
  {
   "cell_type": "code",
   "execution_count": null,
   "id": "7902da5c-2015-4b26-88a3-be12aa536b13",
   "metadata": {},
   "outputs": [],
   "source": [
    "features_dataset.head(2)"
   ]
  },
  {
   "cell_type": "markdown",
   "id": "7c4c4516-89fd-4928-8be4-c60fc11553e4",
   "metadata": {},
   "source": [
    "### Transforming the features label\n",
    "1. Removing features highly correlated between each other"
   ]
  },
  {
   "cell_type": "code",
   "execution_count": null,
   "id": "c8d6d487-2b48-4f6e-9e3f-5cc0288fd452",
   "metadata": {},
   "outputs": [],
   "source": [
    "pair_highly_correlated_features = abs(features_dataset.sample(40000).corr()) > 0.92\n",
    "pair_highly_correlated_features.head(1)"
   ]
  },
  {
   "cell_type": "code",
   "execution_count": null,
   "id": "9cfd2b5d-b384-4645-a887-c469edbce3a1",
   "metadata": {},
   "outputs": [],
   "source": [
    "correlated_pair_features = np.argwhere((pair_highly_correlated_features==True).values)\n",
    "correlated_pair_features = correlated_pair_features[correlated_pair_features[:,0] != correlated_pair_features[:,1]]"
   ]
  },
  {
   "cell_type": "code",
   "execution_count": null,
   "id": "1e4bc667-c343-4cc7-8b9d-44e4fd1de89c",
   "metadata": {},
   "outputs": [],
   "source": [
    "lead_feature = {}\n",
    "child_feature = {} # keys of which will be deleted\n",
    "for idx in range(len(correlated_pair_features)):\n",
    "    left_feature = correlated_pair_features[idx,0]\n",
    "    right_feature = correlated_pair_features[idx,1]\n",
    "    if lead_feature.get(left_feature) is None and lead_feature.get(right_feature) is None and child_feature.get(left_feature) is None: # neither left or right is a boss, make left boss\n",
    "        lead_feature[left_feature] = []\n",
    "        lead_feature[left_feature].append(right_feature)\n",
    "        child_feature[right_feature] = left_feature\n",
    "    elif lead_feature.get(left_feature) is not None and lead_feature.get(right_feature) is None  : # new child for left feature\n",
    "        lead_feature[left_feature].append(right_feature)\n",
    "        child_feature[right_feature] = left_feature\n",
    "    else: # other cases are if right feature is not None, that means already a boss\n",
    "        continue \n",
    "\n",
    "print(\"Number of features deleting : \", len(child_feature.keys()))"
   ]
  },
  {
   "cell_type": "code",
   "execution_count": null,
   "id": "98e282b4-a16a-427e-a027-c43e92a58af6",
   "metadata": {},
   "outputs": [],
   "source": [
    "columns_to_drop = features_dataset.columns[list(child_feature.keys())]\n",
    "features_dataset.drop(columns_to_drop,axis=1,inplace=True)"
   ]
  },
  {
   "cell_type": "code",
   "execution_count": null,
   "id": "b40255d2-4b65-4976-a753-826eeb6549c8",
   "metadata": {},
   "outputs": [],
   "source": [
    "features_dataset.to_pickle('elliptic_bitcoin_dataset/elliptic_txs_features_light.pkl')\n",
    "classes_dataset.to_pickle('elliptic_bitcoin_dataset/elliptic_txs_classes_transformed.pkl')\n",
    "edges_dataset.to_pickle('elliptic_bitcoin_dataset/elliptic_txs_edgelist_transformed.pkl')"
   ]
  },
  {
   "cell_type": "code",
   "execution_count": null,
   "id": "aab6c036-9555-4b4d-8d70-e52d3762e751",
   "metadata": {},
   "outputs": [],
   "source": [
    "classes_dataset"
   ]
  },
  {
   "cell_type": "code",
   "execution_count": null,
   "id": "48acd628-9bdc-48af-aedc-7c84ee684c42",
   "metadata": {},
   "outputs": [],
   "source": []
  }
 ],
 "metadata": {
  "kernelspec": {
   "display_name": "Python 3 (ipykernel)",
   "language": "python",
   "name": "python3"
  },
  "language_info": {
   "codemirror_mode": {
    "name": "ipython",
    "version": 3
   },
   "file_extension": ".py",
   "mimetype": "text/x-python",
   "name": "python",
   "nbconvert_exporter": "python",
   "pygments_lexer": "ipython3",
   "version": "3.10.9"
  }
 },
 "nbformat": 4,
 "nbformat_minor": 5
}
